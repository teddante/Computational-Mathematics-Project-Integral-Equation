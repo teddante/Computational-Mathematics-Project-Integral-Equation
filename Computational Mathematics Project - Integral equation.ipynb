{
 "cells":[
  {
   "cell_type":"markdown",
   "source":[
    "# MAT 20031 Project: Integral equation\n",
    "\n",
    "### Student number: 18004543\n",
    "\n",
    "## Introduction\n",
    "In this project, we'll be attempting will be attempting to look for the solution of $x$ within the following equation which will result in finding the interval that gives the required value of the integral:\n",
    "\n",
    "$$ \\int_{0}^{x}{\\frac{1}{\\sqrt{2\\pi}}e^{-t^2\/2}dt}\\ =\\ 0.45 $$\n",
    "\n",
    "I'm interested in this problem because I'm curious about the computational accuracy of finding integrals when using different algorithms such Newton's method for computing roots and Simpson's rule for computing definite integrals.\n",
    "\n",
    "### Definitions and methodology\n",
    "#### Newton's method\n",
    "We first want to attempt to use Newton's method to have a search for a root. This is defined as:\n",
    "\n",
    "$$x_{n+1}=x_n-\\frac{f(x_n)}{f'(x_n)}$$\n",
    "\n",
    "For this to be carried out, we need to find $f(x)$ and $f'(x)$.\n",
    "\n",
    "#### Defining $f(x)$\n",
    "Here we move everything to the left-hand side.\n",
    "\n",
    "$$ f(x) = \\int_0^x \\dfrac{1}{\\sqrt{2 \\pi}} e^{-t^2\/2}~dt - 0.45 = 0$$\n",
    "\n",
    "$$ f(x) = \\int_0^x \\dfrac{1}{\\sqrt{2 \\pi}} e^{-t^2\/2}~dt - 0.45$$\n",
    "\n",
    "The integral within our $f(x)$ will be computed from our Simpson's rule which we will discuss later.\n",
    "\n",
    "#### Defining $f'(x)$\n",
    "We can work our $f(x)$ around to $f'(x)$:\n",
    "\n",
    "$$ f^\\prime\\left(x\\right)=\\frac{e^{-x^2\/2}}{\\sqrt{2\\pi}} $$\n",
    "\n",
    "#### Simpsons Rule\n",
    "This is our definition for a composite Simpson's rule:\n",
    "\n",
    "$$ \\int_a^b f(x) dx = \\frac{h}{3}\\sum_{i=0}^{N\/2}\\left[f(x_{2i} + 4x_{2i+1} + x_{2i+2} \\right] + E_i  $$\n",
    "\n",
    "### Defining the true value of $x$\n",
    "To have a look at the accuracy, we need to do the integral by hand and look for $x$ to make a comparison between the calculated value and the true value. The true value will be used to compute the error between the calculated value and its true value.\n",
    "\n",
    "$$ \\int_{0}^{x}{\\frac{1}{\\sqrt{2\\pi}}e^{-t^2\/2}dt}\\ =\\ 0.45 $$\n",
    "\n",
    "$$ \\left[\\frac{1}{2}erf\\left(\\frac{t}{\\sqrt2}\\right)\\right]_0^x=0.45 $$\n",
    "\n",
    "$$ \\left[\\frac{1}{2}erf\\left(\\frac{x}{\\sqrt2}\\right)\\right]-\\ \\left[\\frac{1}{2}erf\\left(0\\right)\\right]=0.45 $$\n",
    "\n",
    "$$ \\left[\\frac{1}{2}erf\\left(\\frac{x}{\\sqrt2}\\right)\\right]-\\ 0=0.45 $$\n",
    "\n",
    "$$ erf\\left(\\frac{x}{\\sqrt2}\\right)=0.9 $$\n",
    "\n",
    "$$ erf^{-1}\\left(0.9\\right)=\\frac{x}{\\sqrt2} $$\n",
    "\n",
    "$$ \\sqrt2erf^{-1}\\left(0.9\\right)=x $$\n",
    "\n",
    "We can compute $ \\sqrt2erf^{-1}\\left(0.9\\right)=x $ using the scipy module and use the inverse error function to compute $ x $. I came across 'erfinv' function within the scipy documentation while looking for a route to invert the error function within our result for the true value.\n",
    "\n",
    "We can quickly view a preview of the true value now using a function to see what we are aiming for. This function can also act as a short hand way of accessing the true value in later error calculations to reduce clutter within the code.\n",
    "\n",
    "Before we do so, we need to import our dependencies for our Python work.\n",
    "\n",
    "In the following code, we will import dependencies and implement our definitions for Newton's method and the Simpson's rule.\n",
    "### Importing dependencies\n",
    "First, we are setting up with importing all the modules that we need."
   ],
   "attachments":{
    
   },
   "metadata":{
    "datalore":{
     "type":"MD",
     "hide_input_from_viewers":false,
     "hide_output_from_viewers":false
    }
   }
  },
  {
   "cell_type":"code",
   "source":[
    "%matplotlib notebook\n",
    "import numpy as np\n",
    "from scipy import special #Used to access erfinv functions"
   ],
   "execution_count":1,
   "outputs":[
    
   ],
   "metadata":{
    "datalore":{
     "type":"CODE",
     "hide_input_from_viewers":false,
     "hide_output_from_viewers":false
    }
   }
  },
  {
   "cell_type":"markdown",
   "source":[
    "Now we can show the preview of our true value:"
   ],
   "attachments":{
    
   },
   "metadata":{
    "datalore":{
     "type":"MD",
     "hide_input_from_viewers":false,
     "hide_output_from_viewers":false
    }
   }
  },
  {
   "cell_type":"code",
   "source":[
    "def trueX():\n",
    "    return np.sqrt(2)*special.erfinv(0.9)\n",
    "\n",
    "print(\"True value of x is:\",trueX())"
   ],
   "execution_count":2,
   "outputs":[
    {
     "name":"stdout",
     "text":[
      "True value of x is: 1.6448536269514724\n"
     ],
     "output_type":"stream"
    }
   ],
   "metadata":{
    "datalore":{
     "type":"CODE",
     "hide_input_from_viewers":false,
     "hide_output_from_viewers":false
    }
   }
  },
  {
   "cell_type":"markdown",
   "source":[
    "## Implementation into Python"
   ],
   "attachments":{
    
   },
   "metadata":{
    "datalore":{
     "type":"MD",
     "hide_input_from_viewers":false,
     "hide_output_from_viewers":false
    }
   }
  },
  {
   "cell_type":"markdown",
   "source":[
    "### Setting up test parameters and their initial values\n",
    "Here I'm going to set up the inital value for x, the tolerance that is going to be used and the number of max interations that are going to be carried out for Newton's method. Also including a parameter that will be used within the Simpson's rule method to determine its sub intervals.\n",
    "\n",
    "All of these values can and will be changed during the running of the program to test different parameters and see how they affect our computed value of $x$ compared to its true value.\n",
    "\n",
    "Here is the declarion of our testing values and their initial values:"
   ],
   "attachments":{
    
   },
   "metadata":{
    "datalore":{
     "type":"MD",
     "hide_input_from_viewers":false,
     "hide_output_from_viewers":false
    }
   }
  },
  {
   "cell_type":"code",
   "source":[
    "initialX = 1 #Definition for the x0 we shall be using for our Newton's method \n",
    "tolerance =  10**(-5) #Tolerance for which xn+1 will be tested compared to 0\n",
    "maxIterations = 100 #Max iterations of how many times our Newton's method\n",
    "simpSubIntervals = 21 #Number of sub intervals for the Simpson's rule. This value must be odd"
   ],
   "execution_count":3,
   "outputs":[
    
   ],
   "metadata":{
    "datalore":{
     "type":"CODE",
     "hide_input_from_viewers":false,
     "hide_output_from_viewers":false
    }
   }
  },
  {
   "cell_type":"markdown",
   "source":[
    "### Defining Simpson's rule\n",
    "Here we define the composite Simpson's rule. Our Simpson's rule can have a function passed in for it to integrate."
   ],
   "attachments":{
    
   },
   "metadata":{
    "datalore":{
     "type":"MD",
     "hide_input_from_viewers":false,
     "hide_output_from_viewers":false
    }
   }
  },
  {
   "cell_type":"code",
   "source":[
    "#Simpson's rule function with the parameters: the function to have its integral computed,integral bound A, integral bound B, sub intervals \n",
    "def simpsons(f,boundA,boundB,N):\n",
    "    #Setting h\n",
    "    h = (boundB-boundA)\/(N-1)\n",
    "    #Interpolating values between the bounds at N intervals\n",
    "    x = np.linspace(boundA,boundB,N)\n",
    "    \n",
    "    #Simpsons rule embedded with our f(x)\n",
    "    simpo = (h\/3) * np.sum(f(x[0:N-2:2]) + 4*f(x[1:N-1:2]) + f(x[2:N:2]))\n",
    "    #Return Simpson's rule output\n",
    "    return simpo"
   ],
   "execution_count":4,
   "outputs":[
    
   ],
   "metadata":{
    "datalore":{
     "type":"CODE",
     "hide_input_from_viewers":false,
     "hide_output_from_viewers":false
    }
   }
  },
  {
   "cell_type":"markdown",
   "source":[
    "### Defining $f(x)$\n",
    "\n",
    "$$ f(x) = \\int_0^x \\dfrac{1}{\\sqrt{2 \\pi}} e^{-t^2\/2}~dt - 0.45$$\n",
    "\n",
    "Here is the definition for our $f(x)$. As you can see the Simpson's rule we defined earlier is being used here to compute our integral(defined in the arguments of the function). This is the key to the whole project as we are computing the integral using Simpson's rule."
   ],
   "attachments":{
    
   },
   "metadata":{
    "datalore":{
     "type":"MD",
     "hide_input_from_viewers":false,
     "hide_output_from_viewers":false
    }
   }
  },
  {
   "cell_type":"code",
   "source":[
    "def f(x):    \n",
    "    return simpsons(lambda x:np.exp(-(x**2)\/2)\/np.sqrt(2*np.pi),0,x,simpSubIntervals) - 0.45"
   ],
   "execution_count":5,
   "outputs":[
    
   ],
   "metadata":{
    "datalore":{
     "type":"CODE",
     "hide_input_from_viewers":false,
     "hide_output_from_viewers":false
    }
   }
  },
  {
   "cell_type":"markdown",
   "source":[
    "### Defining $f'(x)$\n",
    "\n",
    "$$ f^\\prime\\left(x\\right)=\\frac{e^{-x^2\/2}}{\\sqrt{2\\pi}} $$\n",
    "\n",
    "DefinIng our $f'(x)$ using are calculation within the definitions. We are taking advantage of numpy functions here."
   ],
   "attachments":{
    
   },
   "metadata":{
    "datalore":{
     "type":"MD",
     "hide_input_from_viewers":false,
     "hide_output_from_viewers":false
    }
   }
  },
  {
   "cell_type":"code",
   "source":[
    "def df(x):\n",
    "    return np.exp(-(x**2)\/2)\/np.sqrt(2*np.pi)"
   ],
   "execution_count":6,
   "outputs":[
    
   ],
   "metadata":{
    "datalore":{
     "type":"CODE",
     "hide_input_from_viewers":false,
     "hide_output_from_viewers":false
    }
   }
  },
  {
   "cell_type":"markdown",
   "source":[
    "### Defining Newton's method\n",
    "\n",
    "$$x_{n+1}=x_n-\\frac{f(x_n)}{f'(x_n)}$$\n",
    "\n",
    "This is the most important function which pulls alot of our definitions together to find our computed value. While also performing Newton's iterations it also displays how the values change with each iteration and its final output. All initial test values are pulled from our definitions, these can be changed. It also returns the final computer value of $x$ which will later be compared to the true value of $x$."
   ],
   "attachments":{
    
   },
   "metadata":{
    "datalore":{
     "type":"MD",
     "hide_input_from_viewers":false,
     "hide_output_from_viewers":false
    }
   }
  },
  {
   "cell_type":"code",
   "source":[
    "#Newton's method function with the parameters: initial value, tolerance and max iterations.\n",
    "def newtons():\n",
    "    xn = initialX #Setting initial value of xn to initialX\n",
    "    \n",
    "    print(\"n          x_n+1          x_n          f(x_n)          f'(x_n)\")\n",
    "    print(\"____________________________________________________________________\")#Formatting for printing each iteration of the loop\n",
    "    \n",
    "    for i in range(maxIterations):\n",
    "        xnp1 = xn - (f(xn)\/df(xn)) #Calculating x_n+1\n",
    "        \n",
    "        print(\"{:d} {:.10e} {:.10e} {:.10e} {:.10e}\".format(i,xnp1,xn,f(xn),df(xn))) #Formatting for table\n",
    "        \n",
    "        if(abs(f(xnp1))<tolerance):\n",
    "            print(\"\") #Space\n",
    "            print(\"Our calculated estimated value of x is\",xnp1,\"at a Newton's method tolerance of\",tolerance,\"at\",simpSubIntervals,\"Simpsons rule subintervals\")\n",
    "            return xnp1 #Return final value\n",
    "        \n",
    "        xn = xnp1"
   ],
   "execution_count":7,
   "outputs":[
    
   ],
   "metadata":{
    "datalore":{
     "type":"CODE",
     "hide_input_from_viewers":false,
     "hide_output_from_viewers":false
    }
   }
  },
  {
   "cell_type":"markdown",
   "source":[
    "### Accuracy of integration and complete function\n",
    "Here we'll define a fuction that can be used to quickly determine the error between our calcutlated value based on our set parameters and the true value of $x$. This is essentially one large function that compliles all of our previous functions together to nicely output all the values together with are test parameters to speed up testing different parameters."
   ],
   "attachments":{
    
   },
   "metadata":{
    "datalore":{
     "type":"MD",
     "hide_input_from_viewers":false,
     "hide_output_from_viewers":false
    }
   }
  },
  {
   "cell_type":"code",
   "source":[
    "def compFunction():\n",
    "    computedValue = newtons()\n",
    "    print(\"\")\n",
    "    print(\"Difference between calculated value and true value of x is:\",(abs(trueX()-computedValue)))"
   ],
   "execution_count":8,
   "outputs":[
    
   ],
   "metadata":{
    "datalore":{
     "type":"CODE",
     "hide_input_from_viewers":false,
     "hide_output_from_viewers":false
    }
   }
  },
  {
   "cell_type":"markdown",
   "source":[
    "## Experimentation\n",
    "### Testing values for converage to true $x$\n",
    "Now we can begin testing and expermienting differant parameters and analyse the convergance. First I'll test with the default values that we set previously:\n",
    "\n",
    "initialX = 1\n",
    "\n",
    "tolerance =  10**(-5)\n",
    "\n",
    "maxIterations = 100\n",
    "\n",
    "simpSubIntervals = 21"
   ],
   "attachments":{
    
   },
   "metadata":{
    "datalore":{
     "type":"MD",
     "hide_input_from_viewers":false,
     "hide_output_from_viewers":false
    }
   }
  },
  {
   "cell_type":"code",
   "source":[
    "compFunction()"
   ],
   "execution_count":9,
   "outputs":[
    {
     "name":"stdout",
     "text":[
      "n          x_n+1          x_n          f(x_n)          f'(x_n)\n",
      "____________________________________________________________________\n",
      "0 1.4490429052e+00 1.0000000000e+00 -1.0865523711e-01 2.4197072452e-01\n",
      "1 1.6185177051e+00 1.4490429052e+00 -2.3662772648e-02 1.3962413682e-01\n",
      "2 1.6442971375e+00 1.6185177051e+00 -2.7755215266e-03 1.0766418286e-01\n",
      "3 1.6448532503e+00 1.6442971375e+00 -5.7407565600e-05 1.0323007216e-01\n",
      "\n",
      "Our calculated estimated value of x is 1.6448532503375997 at a Newton's method tolerance of 1e-05 at 21 Simpsons rule subintervals\n",
      "\n",
      "Difference between calculated value and true value of x is: 3.7661387275456093e-07\n"
     ],
     "output_type":"stream"
    }
   ],
   "metadata":{
    "datalore":{
     "type":"CODE",
     "hide_input_from_viewers":false,
     "hide_output_from_viewers":false
    }
   }
  },
  {
   "cell_type":"markdown",
   "source":[
    "With a fairly low initial tolerance and high number of sub-intervals we seem to have a strong convergence to the true value of x.\n",
    "\n",
    "Now we'll experiement by reducing the sub-intervals in the Simpson's rule and increasing tolerance for the Newton's iteration to see if the value tapers away from our true value."
   ],
   "attachments":{
    
   },
   "metadata":{
    "datalore":{
     "type":"MD",
     "hide_input_from_viewers":false,
     "hide_output_from_viewers":false
    }
   }
  },
  {
   "cell_type":"code",
   "source":[
    "initialX = 1\n",
    "tolerance =  10**(-2)\n",
    "maxIterations = 100\n",
    "simpSubIntervals = 5"
   ],
   "execution_count":10,
   "outputs":[
    
   ],
   "metadata":{
    "datalore":{
     "type":"CODE",
     "hide_input_from_viewers":false,
     "hide_output_from_viewers":false
    }
   }
  },
  {
   "cell_type":"code",
   "source":[
    "compFunction()"
   ],
   "execution_count":11,
   "outputs":[
    {
     "name":"stdout",
     "text":[
      "n          x_n+1          x_n          f(x_n)          f'(x_n)\n",
      "____________________________________________________________________\n",
      "0 1.4489985818e+00 1.0000000000e+00 -1.0864451214e-01 2.4197072452e-01\n",
      "1 1.6183867629e+00 1.4489985818e+00 -2.3652197596e-02 1.3963310454e-01\n",
      "\n",
      "Our calculated estimated value of x is 1.6183867628619013 at a Newton's method tolerance of 0.01 at 5 Simpsons rule subintervals\n",
      "\n",
      "Difference between calculated value and true value of x is: 0.026466864089571107\n"
     ],
     "output_type":"stream"
    }
   ],
   "metadata":{
    "datalore":{
     "type":"CODE",
     "hide_input_from_viewers":false,
     "hide_output_from_viewers":false
    }
   }
  },
  {
   "cell_type":"markdown",
   "source":[
    "Here we can see it diverging from the true value. Lets again change some more values and see if we can divert more."
   ],
   "attachments":{
    
   },
   "metadata":{
    "datalore":{
     "type":"MD",
     "hide_input_from_viewers":false,
     "hide_output_from_viewers":false
    }
   }
  },
  {
   "cell_type":"code",
   "source":[
    "initialX = 1\n",
    "tolerance =  10**(-1)\n",
    "maxIterations = 10\n",
    "simpSubIntervals = 3"
   ],
   "execution_count":12,
   "outputs":[
    
   ],
   "metadata":{
    "datalore":{
     "type":"CODE",
     "hide_input_from_viewers":false,
     "hide_output_from_viewers":false
    }
   }
  },
  {
   "cell_type":"code",
   "source":[
    "compFunction()"
   ],
   "execution_count":13,
   "outputs":[
    {
     "name":"stdout",
     "text":[
      "n          x_n+1          x_n          f(x_n)          f'(x_n)\n",
      "____________________________________________________________________\n",
      "0 1.4482812878e+00 1.0000000000e+00 -1.0847094800e-01 2.4197072452e-01\n",
      "\n",
      "Our calculated estimated value of x is 1.4482812878262994 at a Newton's method tolerance of 0.1 at 3 Simpsons rule subintervals\n",
      "\n",
      "Difference between calculated value and true value of x is: 0.19657233912517302\n"
     ],
     "output_type":"stream"
    }
   ],
   "metadata":{
    "datalore":{
     "type":"CODE",
     "hide_input_from_viewers":false,
     "hide_output_from_viewers":false
    }
   }
  },
  {
   "cell_type":"markdown",
   "source":[
    "Again, we see the value moving away from what we expect. Now let's try changing the values to get strong accuracy."
   ],
   "attachments":{
    
   },
   "metadata":{
    "datalore":{
     "type":"MD",
     "hide_input_from_viewers":false,
     "hide_output_from_viewers":false
    }
   }
  },
  {
   "cell_type":"code",
   "source":[
    "initialX = 1\n",
    "tolerance =  10**(-10)\n",
    "maxIterations = 1000\n",
    "simpSubIntervals = 101"
   ],
   "execution_count":14,
   "outputs":[
    
   ],
   "metadata":{
    "datalore":{
     "type":"CODE",
     "hide_input_from_viewers":false,
     "hide_output_from_viewers":false
    }
   }
  },
  {
   "cell_type":"code",
   "source":[
    "compFunction()"
   ],
   "execution_count":15,
   "outputs":[
    {
     "name":"stdout",
     "text":[
      "n          x_n+1          x_n          f(x_n)          f'(x_n)\n",
      "____________________________________________________________________\n",
      "0 1.4490429746e+00 1.0000000000e+00 -1.0865525390e-01 2.4197072452e-01\n",
      "1 1.6185179213e+00 1.4490429746e+00 -2.3662790766e-02 1.3962412278e-01\n",
      "2 1.6442972917e+00 1.6185179213e+00 -2.7755138771e-03 1.0766414519e-01\n",
      "3 1.6448533723e+00 1.6442972917e+00 -5.7404229776e-05 1.0323004599e-01\n",
      "4 1.6448536268e+00 1.6448533723e+00 -2.6239189654e-08 1.0313568357e-01\n",
      "\n",
      "Our calculated estimated value of x is 1.6448536267545582 at a Newton's method tolerance of 1e-10 at 101 Simpsons rule subintervals\n",
      "\n",
      "Difference between calculated value and true value of x is: 1.9691426267343104e-10\n"
     ],
     "output_type":"stream"
    }
   ],
   "metadata":{
    "datalore":{
     "type":"CODE",
     "hide_input_from_viewers":false,
     "hide_output_from_viewers":false
    }
   }
  },
  {
   "cell_type":"markdown",
   "source":[
    "Now we have a highly accurate result within 10dp of the true value.\n",
    "\n",
    "## Conclusion\n",
    "Putting all of this together, we have managed to create computational functions of differant methods such as Newton's and Simpson's rule to reverse engineer an integral within a function to find its upper bound. We've been able to modify our test parameters to increase or decrease the accuracy of computed value of $x$."
   ],
   "attachments":{
    
   },
   "metadata":{
    "datalore":{
     "type":"MD",
     "hide_input_from_viewers":false,
     "hide_output_from_viewers":false
    }
   }
  }
 ],
 "metadata":{
  "datalore":{
   "version":1,
   "computation_mode":"JUPYTER",
   "package_manager":"pip",
   "base_environment":"default",
   "packages":[
    
   ]
  }
 },
 "nbformat":4,
 "nbformat_minor":4
}